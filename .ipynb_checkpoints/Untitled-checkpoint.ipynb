{
 "cells": [
  {
   "cell_type": "code",
   "execution_count": null,
   "id": "7c6dee41",
   "metadata": {},
   "outputs": [],
   "source": [
    "import openpyxl"
   ]
  },
  {
   "cell_type": "code",
   "execution_count": null,
   "id": "87400b84",
   "metadata": {},
   "outputs": [],
   "source": [
    "wb = openpyxl.load_workbook('example.xlsx')"
   ]
  },
  {
   "cell_type": "code",
   "execution_count": null,
   "id": "73510f6e",
   "metadata": {},
   "outputs": [],
   "source": [
    "wb.worksheets"
   ]
  },
  {
   "cell_type": "code",
   "execution_count": 24,
   "id": "ca61eb83",
   "metadata": {},
   "outputs": [],
   "source": [
    "sht = wb.worksheets[0]"
   ]
  },
  {
   "cell_type": "code",
   "execution_count": 26,
   "id": "766850e6",
   "metadata": {},
   "outputs": [
    {
     "data": {
      "text/plain": [
       "'Population by Census Tract'"
      ]
     },
     "execution_count": 26,
     "metadata": {},
     "output_type": "execute_result"
    }
   ],
   "source": [
    "sht.title"
   ]
  },
  {
   "cell_type": "code",
   "execution_count": 27,
   "id": "0fa10b42",
   "metadata": {},
   "outputs": [
    {
     "data": {
      "text/plain": [
       "72865"
      ]
     },
     "execution_count": 27,
     "metadata": {},
     "output_type": "execute_result"
    }
   ],
   "source": [
    "sht.max_row"
   ]
  },
  {
   "cell_type": "code",
   "execution_count": 28,
   "id": "0543bac7",
   "metadata": {},
   "outputs": [
    {
     "data": {
      "text/plain": [
       "4"
      ]
     },
     "execution_count": 28,
     "metadata": {},
     "output_type": "execute_result"
    }
   ],
   "source": [
    "sht.max_column"
   ]
  },
  {
   "cell_type": "code",
   "execution_count": 33,
   "id": "f15f135f",
   "metadata": {},
   "outputs": [],
   "source": [
    "count = {}"
   ]
  },
  {
   "cell_type": "code",
   "execution_count": null,
   "id": "60eb5223",
   "metadata": {},
   "outputs": [],
   "source": [
    "for row_num in range(sht.max_row):\n",
    "    for col_num in range(sht.max_column):\n",
    "        count[(row_num, col_num)] = sht.cell(row_num+1, col_num+1).value"
   ]
  },
  {
   "cell_type": "code",
   "execution_count": null,
   "id": "b4a3b529",
   "metadata": {},
   "outputs": [],
   "source": []
  }
 ],
 "metadata": {
  "kernelspec": {
   "display_name": "Python 3 (ipykernel)",
   "language": "python",
   "name": "python3"
  },
  "language_info": {
   "codemirror_mode": {
    "name": "ipython",
    "version": 3
   },
   "file_extension": ".py",
   "mimetype": "text/x-python",
   "name": "python",
   "nbconvert_exporter": "python",
   "pygments_lexer": "ipython3",
   "version": "3.9.13"
  }
 },
 "nbformat": 4,
 "nbformat_minor": 5
}
